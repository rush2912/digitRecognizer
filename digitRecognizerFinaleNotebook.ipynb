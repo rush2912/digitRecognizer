{
 "cells": [
  {
   "cell_type": "code",
   "execution_count": 2,
   "id": "4ac1ddbd",
   "metadata": {},
   "outputs": [],
   "source": [
    "import numpy as np\n",
    "import matplotlib.pyplot as plt\n",
    "import pandas as pd"
   ]
  },
  {
   "cell_type": "code",
   "execution_count": 3,
   "id": "2485202f",
   "metadata": {},
   "outputs": [],
   "source": [
    "data=pd.read_csv(r\"C:\\Users\\rushi\\OneDrive\\Desktop\\imp\\project\\digitRecognizer\\train.csv\")"
   ]
  },
  {
   "cell_type": "code",
   "execution_count": 4,
   "id": "dda52acb",
   "metadata": {},
   "outputs": [],
   "source": [
    "data = np.array(data)\n",
    "m, n = data.shape\n",
    "\n",
    "data_dev = data[0:1000].T\n",
    "Y_dev = data_dev[0]\n",
    "X_dev = data_dev[1:n]\n",
    "X_dev = X_dev / 255.\n",
    "\n",
    "data_train = data[1000:m].T\n",
    "Y_train = data_train[0]\n",
    "X_train = data_train[1:n]\n",
    "X_train = X_train / 255.\n",
    "n_train, m_train = X_train.shape"
   ]
  },
  {
   "cell_type": "code",
   "execution_count": 5,
   "id": "44694cac",
   "metadata": {},
   "outputs": [],
   "source": [
    "def init_params():\n",
    "    W1 = np.random.rand(10, 784) - 0.5\n",
    "    B1 = np.random.rand(10, 1) - 0.5\n",
    "    W2 = np.random.rand(10, 10) - 0.5\n",
    "    B2 = np.random.rand(10, 1) - 0.5\n",
    "    return W1, B1, W2, B2"
   ]
  },
  {
   "cell_type": "code",
   "execution_count": 6,
   "id": "e1f20418",
   "metadata": {},
   "outputs": [],
   "source": [
    "def ReLU(Z):\n",
    "    return np.maximum(Z, 0)\n",
    "\n",
    "def softmax(Z):\n",
    "    A = np.exp(Z) / sum(np.exp(Z))\n",
    "    return A\n",
    "\n",
    "def one_hot(Y):\n",
    "    one_hot_Y = np.zeros((Y.max() + 1, Y.size))\n",
    "    one_hot_Y[Y, np.arange(Y.size)] = 1;\n",
    "    return one_hot_Y \n",
    "\n",
    "def deriv(Z):\n",
    "    return Z > 0"
   ]
  },
  {
   "cell_type": "code",
   "execution_count": 7,
   "id": "b9b227e5",
   "metadata": {},
   "outputs": [],
   "source": [
    "def forward_prop(W1, B1, W2, B2, X):\n",
    "    Z1 = np.dot(W1, X) + B1\n",
    "    A1 = ReLU(Z1)\n",
    "    Z2 = np.dot(W2, A1) + B2\n",
    "    A2 = softmax(Z2)\n",
    "    return Z1, A1, Z2, A2"
   ]
  },
  {
   "cell_type": "code",
   "execution_count": 8,
   "id": "894dcf0e",
   "metadata": {},
   "outputs": [],
   "source": [
    "def back_prop(Z1, A1, Z2, A2, W2, X, Y):\n",
    "    m = Y.size\n",
    "    Y_true = one_hot(Y)\n",
    "    loss2 = A2 - Y_true\n",
    "    dW2 = 1 / m * loss2.dot(A1.T)\n",
    "    dB2 = 1 / m * np.sum(loss2)\n",
    "    loss1 = W2.T.dot(loss2) * deriv(Z1)\n",
    "    dW1 = 1 / m * loss1.dot(X_train.T)\n",
    "    dB1 = 1 / m * np.sum(loss1)\n",
    "    return dW1, dB1, dW2, dB2"
   ]
  },
  {
   "cell_type": "code",
   "execution_count": 9,
   "id": "df6704f1",
   "metadata": {},
   "outputs": [],
   "source": [
    "def update_params(W1, B1, W2, B2, dW1, dB1, dW2, dB2, alpha):\n",
    "    alpha = 0.1\n",
    "    W1 = W1 - alpha * dW1\n",
    "    B1 = B1 - alpha * dB1\n",
    "    W2 = W2 - alpha * dW2\n",
    "    B2 = B2 - alpha * dB2\n",
    "    return W1, B1, W2, B2"
   ]
  },
  {
   "cell_type": "code",
   "execution_count": 10,
   "id": "e7994da0",
   "metadata": {},
   "outputs": [],
   "source": [
    "def get_predictions(A2):\n",
    "    return np.argmax(A2, 0)\n",
    "\n",
    "def get_accuracy(predictions, Y):\n",
    "    print(predictions, Y)\n",
    "    return np.sum(predictions == Y) / Y.size"
   ]
  },
  {
   "cell_type": "code",
   "execution_count": 11,
   "id": "4ae55a66",
   "metadata": {},
   "outputs": [],
   "source": [
    "def grad_descent(X, Y, alpha, iterations):\n",
    "    W1, B1, W2, B2 = init_params()\n",
    "    for i in range(iterations):\n",
    "        Z1, A1, Z2, A2 = forward_prop(W1, B1, W2, B2, X)\n",
    "        dW1, dB1, dW2, dB2 = back_prop(Z1, A1, Z2, A2, W2, X, Y)\n",
    "        W1, B1, W2, B2 = update_params(W1, B1, W2, B2, dW1, dB1, dW2, dB2, alpha)\n",
    "        if i % 10 == 0:\n",
    "            print(\"Iteration: \", i)\n",
    "            predictions = get_predictions(A2)\n",
    "            print(get_accuracy(predictions, Y))\n",
    "    return W1, B1, W2, B2"
   ]
  },
  {
   "cell_type": "code",
   "execution_count": 12,
   "id": "f03295d5",
   "metadata": {},
   "outputs": [
    {
     "name": "stdout",
     "output_type": "stream",
     "text": [
      "Iteration:  0\n",
      "[5 1 3 ... 7 5 6] [1 5 1 ... 7 6 9]\n",
      "0.10448780487804878\n",
      "Iteration:  10\n",
      "[7 1 3 ... 1 5 0] [1 5 1 ... 7 6 9]\n",
      "0.18124390243902438\n",
      "Iteration:  20\n",
      "[1 1 1 ... 1 2 0] [1 5 1 ... 7 6 9]\n",
      "0.2705609756097561\n",
      "Iteration:  30\n",
      "[1 4 1 ... 1 2 0] [1 5 1 ... 7 6 9]\n",
      "0.3482195121951219\n",
      "Iteration:  40\n",
      "[1 4 1 ... 7 2 0] [1 5 1 ... 7 6 9]\n",
      "0.4218048780487805\n",
      "Iteration:  50\n",
      "[1 4 1 ... 7 2 0] [1 5 1 ... 7 6 9]\n",
      "0.47821951219512193\n",
      "Iteration:  60\n",
      "[1 4 1 ... 7 2 2] [1 5 1 ... 7 6 9]\n",
      "0.5300731707317073\n",
      "Iteration:  70\n",
      "[1 4 1 ... 7 2 2] [1 5 1 ... 7 6 9]\n",
      "0.5744390243902439\n",
      "Iteration:  80\n",
      "[1 4 1 ... 7 2 2] [1 5 1 ... 7 6 9]\n",
      "0.6104390243902439\n",
      "Iteration:  90\n",
      "[1 4 1 ... 7 6 2] [1 5 1 ... 7 6 9]\n",
      "0.6384878048780488\n",
      "Iteration:  100\n",
      "[1 4 1 ... 7 6 2] [1 5 1 ... 7 6 9]\n",
      "0.6636829268292683\n",
      "Iteration:  110\n",
      "[1 4 1 ... 7 6 4] [1 5 1 ... 7 6 9]\n",
      "0.6835609756097561\n",
      "Iteration:  120\n",
      "[1 4 1 ... 7 6 4] [1 5 1 ... 7 6 9]\n",
      "0.6994146341463414\n",
      "Iteration:  130\n",
      "[1 4 1 ... 7 6 4] [1 5 1 ... 7 6 9]\n",
      "0.7120243902439024\n",
      "Iteration:  140\n",
      "[1 4 1 ... 7 6 4] [1 5 1 ... 7 6 9]\n",
      "0.7236829268292683\n",
      "Iteration:  150\n",
      "[1 4 1 ... 7 6 4] [1 5 1 ... 7 6 9]\n",
      "0.7338536585365854\n",
      "Iteration:  160\n",
      "[1 4 1 ... 7 6 4] [1 5 1 ... 7 6 9]\n",
      "0.7425121951219512\n",
      "Iteration:  170\n",
      "[1 4 1 ... 7 6 4] [1 5 1 ... 7 6 9]\n",
      "0.750219512195122\n",
      "Iteration:  180\n",
      "[1 4 1 ... 7 6 4] [1 5 1 ... 7 6 9]\n",
      "0.7577804878048781\n",
      "Iteration:  190\n",
      "[1 4 1 ... 7 6 4] [1 5 1 ... 7 6 9]\n",
      "0.7637317073170732\n",
      "Iteration:  200\n",
      "[1 4 1 ... 7 6 4] [1 5 1 ... 7 6 9]\n",
      "0.7690243902439025\n",
      "Iteration:  210\n",
      "[1 4 1 ... 7 6 4] [1 5 1 ... 7 6 9]\n",
      "0.7746341463414634\n",
      "Iteration:  220\n",
      "[1 4 1 ... 7 6 4] [1 5 1 ... 7 6 9]\n",
      "0.7794878048780488\n",
      "Iteration:  230\n",
      "[1 4 1 ... 7 6 4] [1 5 1 ... 7 6 9]\n",
      "0.7834146341463415\n",
      "Iteration:  240\n",
      "[1 4 1 ... 7 6 4] [1 5 1 ... 7 6 9]\n",
      "0.7873658536585366\n",
      "Iteration:  250\n",
      "[1 4 1 ... 7 6 4] [1 5 1 ... 7 6 9]\n",
      "0.7913414634146342\n",
      "Iteration:  260\n",
      "[1 4 1 ... 7 6 4] [1 5 1 ... 7 6 9]\n",
      "0.7954878048780488\n",
      "Iteration:  270\n",
      "[1 4 1 ... 7 6 4] [1 5 1 ... 7 6 9]\n",
      "0.7988536585365854\n",
      "Iteration:  280\n",
      "[1 4 1 ... 7 6 4] [1 5 1 ... 7 6 9]\n",
      "0.8020243902439025\n",
      "Iteration:  290\n",
      "[1 4 1 ... 7 6 4] [1 5 1 ... 7 6 9]\n",
      "0.8047073170731708\n",
      "Iteration:  300\n",
      "[1 4 1 ... 7 6 4] [1 5 1 ... 7 6 9]\n",
      "0.8080243902439025\n",
      "Iteration:  310\n",
      "[1 4 1 ... 7 6 4] [1 5 1 ... 7 6 9]\n",
      "0.8107560975609757\n",
      "Iteration:  320\n",
      "[1 4 1 ... 7 6 4] [1 5 1 ... 7 6 9]\n",
      "0.8133414634146341\n",
      "Iteration:  330\n",
      "[1 4 1 ... 7 6 4] [1 5 1 ... 7 6 9]\n",
      "0.8158780487804878\n",
      "Iteration:  340\n",
      "[1 4 1 ... 7 6 4] [1 5 1 ... 7 6 9]\n",
      "0.8189512195121951\n",
      "Iteration:  350\n",
      "[1 4 1 ... 7 6 4] [1 5 1 ... 7 6 9]\n",
      "0.8212682926829268\n",
      "Iteration:  360\n",
      "[1 4 1 ... 7 6 4] [1 5 1 ... 7 6 9]\n",
      "0.8232926829268292\n",
      "Iteration:  370\n",
      "[1 4 1 ... 7 6 4] [1 5 1 ... 7 6 9]\n",
      "0.8255121951219512\n",
      "Iteration:  380\n",
      "[1 4 1 ... 7 6 4] [1 5 1 ... 7 6 9]\n",
      "0.8273170731707317\n",
      "Iteration:  390\n",
      "[1 4 1 ... 7 6 4] [1 5 1 ... 7 6 9]\n",
      "0.8294390243902439\n",
      "Iteration:  400\n",
      "[1 4 1 ... 7 6 4] [1 5 1 ... 7 6 9]\n",
      "0.8313658536585365\n",
      "Iteration:  410\n",
      "[1 4 1 ... 7 6 4] [1 5 1 ... 7 6 9]\n",
      "0.8328292682926829\n",
      "Iteration:  420\n",
      "[1 4 1 ... 7 6 4] [1 5 1 ... 7 6 9]\n",
      "0.8344146341463414\n",
      "Iteration:  430\n",
      "[1 4 1 ... 7 6 4] [1 5 1 ... 7 6 9]\n",
      "0.8360731707317073\n",
      "Iteration:  440\n",
      "[1 4 1 ... 7 6 4] [1 5 1 ... 7 6 9]\n",
      "0.8372682926829268\n",
      "Iteration:  450\n",
      "[1 4 1 ... 7 6 4] [1 5 1 ... 7 6 9]\n",
      "0.8386829268292683\n",
      "Iteration:  460\n",
      "[1 4 1 ... 7 6 9] [1 5 1 ... 7 6 9]\n",
      "0.8403414634146341\n",
      "Iteration:  470\n",
      "[1 4 1 ... 7 6 9] [1 5 1 ... 7 6 9]\n",
      "0.841609756097561\n",
      "Iteration:  480\n",
      "[1 4 1 ... 7 6 9] [1 5 1 ... 7 6 9]\n",
      "0.8432195121951219\n",
      "Iteration:  490\n",
      "[1 4 1 ... 7 6 9] [1 5 1 ... 7 6 9]\n",
      "0.8441951219512195\n"
     ]
    }
   ],
   "source": [
    "W1, B1, W2, B2 = grad_descent(X_train, Y_train, 0.1, 500)"
   ]
  },
  {
   "cell_type": "code",
   "execution_count": 13,
   "id": "33ae65b2",
   "metadata": {},
   "outputs": [],
   "source": [
    "def make_predictions(X, W1, B1, W2, B2):\n",
    "    _, _, _, A2 = forward_prop(W1, B1, W2, B2, X)\n",
    "    predictions = get_predictions(A2)\n",
    "    return predictions\n",
    "\n",
    "def test_prediction(idx, W1, B1, W2, B2):\n",
    "    current_image = X_train[:, idx, None]\n",
    "    prediction = make_predictions(X_train[:, idx, None], W1, B1, W2, B2)\n",
    "    label = Y_train[idx]\n",
    "    print(\"Prediction: \", prediction)\n",
    "    print(\"Label: \", label)\n",
    "    \n",
    "    current_image = current_image.reshape((28, 28)) * 255\n",
    "    plt.gray()\n",
    "    plt.imshow(current_image, interpolation='nearest')\n",
    "    plt.show()"
   ]
  },
  {
   "cell_type": "code",
   "execution_count": 15,
   "id": "62883a72",
   "metadata": {},
   "outputs": [
    {
     "name": "stdout",
     "output_type": "stream",
     "text": [
      "Prediction:  [7]\n",
      "Label:  7\n"
     ]
    },
    {
     "data": {
      "image/png": "[encoded data removed]",
      "text/plain": [
       "<Figure size 640x480 with 1 Axes>"
      ]
     },
     "metadata": {},
     "output_type": "display_data"
    }
   ],
   "source": [
    "test_prediction(100, W1, B1, W2, B2)"
   ]
  }
 ],
 "metadata": {
  "kernelspec": {
   "display_name": "Python 3 (ipykernel)",
   "language": "python",
   "name": "python3"
  },
  "language_info": {
   "codemirror_mode": {
    "name": "ipython",
    "version": 3
   },
   "file_extension": ".py",
   "mimetype": "text/x-python",
   "name": "python",
   "nbconvert_exporter": "python",
   "pygments_lexer": "ipython3",
   "version": "3.10.1"
  }
 },
 "nbformat": 4,
 "nbformat_minor": 5
}
